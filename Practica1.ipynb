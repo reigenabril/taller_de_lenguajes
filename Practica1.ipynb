{
 "cells": [
  {
   "cell_type": "markdown",
   "id": "c94835db-e8b7-464b-ba53-e523a95b24c7",
   "metadata": {
    "editable": true,
    "slideshow": {
     "slide_type": ""
    },
    "tags": []
   },
   "source": [
    "# Redictado Taller de Lenguajes - Python 2025 \n",
    "## Práctica 1\n",
    "## Objetivos\n",
    "\n",
    "- Preparar el entorno de trabajo que utilizarán a lo largo de la materia instalando las herramientas básicas.\n",
    "- Aprender a escribir nuestro primer programa con **Python** y ejecutarlo.\n",
    "- Crear nuestro primer repositorio local de código y sincronizar el mismo a un repositorio remoto (GitHub).\n"
   ]
  },
  {
   "cell_type": "markdown",
   "id": "6b8740c6-f2d1-4ac9-ac76-67ecd9fb60e9",
   "metadata": {},
   "source": [
    "\n",
    "## Introducción\n",
    "### Python\n",
    "\n",
    "Parte principal de esta actividad es tener su entorno de trabajo preparado para trabajar durante la cursada.\n",
    "Por este motivo es fundamental que comenzemos por instalar `python` en su máquina.\n",
    "Este año utilizaremos la versión de **Python 3.12.9**. Para instalar **Python** en su máquina les proveemos [esta guía de instalación](https://python-unlp.github.io/blog/2023/04/22/instalaci%C3%B3n-de-python/).\n",
    "\n"
   ]
  },
  {
   "cell_type": "markdown",
   "id": "011fe1f4-adc3-440d-9577-052fcae71b31",
   "metadata": {
    "editable": true,
    "slideshow": {
     "slide_type": ""
    },
    "tags": []
   },
   "source": [
    "### Git\n",
    "\n",
    "Como ya vimos **Git** es una herramienta extremadamente útil que nos permite manejar versiones de nuestro código de manera distribuida con nuestro equipo de trabajo.\n",
    "\n",
    "Para poder realizar esto es necesario contar con un **servidor** de **Git** además de tener la herramienta instalada en su [máquina](https://python-unlp.github.io/blog/2023/04/22/gu%C3%ADa-de-git/) **local**. En esta oportunidad vamos a analizar un poco [GitHub](https://github.com/) que es el **servidor** de **Git** más popular actualmente.\n",
    "\n",
    "Recuerde que se encuentra publicada la [guía básica de Git](https://python-unlp.github.io/blog/2023/04/24/git-b%C3%A1sico/) donde se realizan varias de las tareas que solicitamos para realizar esta entrega.\n"
   ]
  },
  {
   "cell_type": "markdown",
   "id": "36b63cac-ad4c-42a3-be8f-5dc191a90974",
   "metadata": {},
   "source": [
    "\n",
    "## Actividades introductorias\n",
    "\n",
    "1. Desarrolla un programa que solicite al usuario que ingrese su edad y luego calcule y muestre cuántos años le faltan para alcanzar los 100 años.\n",
    "2. Haz un programa que pida al usuario que ingrese una temperatura en grados Celsius y luego convierta esa temperatura a grados Fahrenheit, mostrando el resultado.\n",
    "3. Crea un programa que calcule la suma de los primeros 100 números naturales utilizando un bucle for.\n",
    "4. Cree un programa que dada una lista de números imprima sólo los que son pares. Nota: utilice la sentencia `continue` donde haga falta.\n",
    "5. Implementa un programa que solicite al usuario que ingrese una lista de números. Luego, imprime la lista pero detén la impresión si encuentras un número negativo. Nota: utilice la sentencia `break` cuando haga falta.\n",
    "6. Modifique el ejercicio 4 para que dada la lista de número genere dos nuevas listas, una con los número pares y otras con los que son impares. Imprima las listas al terminar de procesarlas.\n",
    "7. Escribe un programa que tome una lista de números enteros como entrada del usuario. Luego, convierte cada número en la lista a string y únelos en una sola cadena, separados por guiones ('-'). Sin embargo, excluye cualquier número que sea múltiplo de 3 de la cadena final.\n"
   ]
  },
  {
   "cell_type": "markdown",
   "id": "41b46aca",
   "metadata": {},
   "source": [
    "1. Desarrolla un programa que solicite al usuario que ingrese su edad y luego calcule y muestre cuántos años le faltan para alcanzar los 100 años."
   ]
  },
  {
   "cell_type": "code",
   "execution_count": 10,
   "id": "80a81271",
   "metadata": {},
   "outputs": [
    {
     "name": "stdout",
     "output_type": "stream",
     "text": [
      "Te faltan 96 para llegar a los 100\n"
     ]
    }
   ],
   "source": [
    "edad = int(input(\"Ingresa tu edad\"))\n",
    "calculo= 100 - edad\n",
    "print(f\"Te faltan {calculo} para llegar a los 100\")"
   ]
  },
  {
   "cell_type": "markdown",
   "id": "f2794891",
   "metadata": {},
   "source": [
    "2. Haz un programa que pida al usuario que ingrese una temperatura en grados Celsius y luego convierta esa temperatura a grados Fahrenheit, mostrando el resultado."
   ]
  },
  {
   "cell_type": "code",
   "execution_count": 11,
   "id": "7477b545",
   "metadata": {},
   "outputs": [
    {
     "name": "stdout",
     "output_type": "stream",
     "text": [
      "La temperatura en farenheit es de: 42.8\n"
     ]
    }
   ],
   "source": [
    "celsius = float(input(\"Ingresa una temperatura\"))\n",
    "fahrenheit = (celsius * 9/5) + 32\n",
    "print(f\"La temperatura en farenheit es de: {fahrenheit}\")"
   ]
  },
  {
   "cell_type": "markdown",
   "id": "c3998386",
   "metadata": {},
   "source": [
    "3. Crea un programa que calcule la suma de los primeros 100 números naturales utilizando un bucle for."
   ]
  },
  {
   "cell_type": "code",
   "execution_count": 18,
   "id": "2610da44",
   "metadata": {},
   "outputs": [
    {
     "name": "stdout",
     "output_type": "stream",
     "text": [
      "La suma es: 5050\n"
     ]
    }
   ],
   "source": [
    "suma = 0\n",
    "for i in range(1,101,1):\n",
    "    suma += i\n",
    "\n",
    "print(f\"La suma es: {suma}\")"
   ]
  },
  {
   "cell_type": "markdown",
   "id": "f99d8422",
   "metadata": {},
   "source": [
    "4. Cree un programa que dada una lista de números imprima sólo los que son pares.\n",
    "Nota: utilice la sentencia `continue` donde haga falta."
   ]
  },
  {
   "cell_type": "code",
   "execution_count": null,
   "id": "acbfbf84",
   "metadata": {},
   "outputs": [],
   "source": [
    "lista_numeros = [1,2,3,4,5,6,7,8,9,10]\n",
    "\n"
   ]
  },
  {
   "cell_type": "markdown",
   "id": "db5043a9",
   "metadata": {},
   "source": [
    "5. Implementa un programa que solicite al usuario que ingrese una lista de números. Luego, imprime la lista pero detén la impresión si encuentras un número negativo. Nota: utilice la sentencia `break` cuando haga falta."
   ]
  },
  {
   "cell_type": "code",
   "execution_count": null,
   "id": "d89b1ec7",
   "metadata": {},
   "outputs": [],
   "source": [
    "entrada = input(\"Ingrese una lista de numeros separados por una coma: \")\n",
    "\n",
    "\n",
    "\n"
   ]
  },
  {
   "cell_type": "markdown",
   "id": "f987129c",
   "metadata": {},
   "source": [
    "6. Modifique el ejercicio 4 para que dada la lista de número genere dos nuevas listas, una con los número pares y otras con los que son impares. Imprima las listas al terminar de procesarlas."
   ]
  },
  {
   "cell_type": "markdown",
   "id": "800aad4b",
   "metadata": {},
   "source": [
    "7. Escribe un programa que tome una lista de números enteros como entrada del usuario. Luego, convierte cada número en la lista a string y únelos en una sola cadena, separados por guiones ('-'). Sin embargo, excluye cualquier número que sea múltiplo de 3 de la cadena final."
   ]
  },
  {
   "cell_type": "markdown",
   "id": "f717d81e-344a-4119-a923-dd481855e4ec",
   "metadata": {},
   "source": [
    "8. Escriba en un archivo llamado `questions.py` el siguiente programa en Python.\n",
    "\n",
    "```python\n",
    "import random\n",
    "\n",
    "# Preguntas para el juego\n",
    "questions = [\n",
    "    \"¿Qué función se usa para obtener la longitud de una cadena en Python?\",\n",
    "    \"¿Cuál de las siguientes opciones es un número entero en Python?\",\n",
    "    \"¿Cómo se solicita entrada del usuario en Python?\",\n",
    "    \"¿Cuál de las siguientes expresiones es un comentario válido en Python?\",\n",
    "    \"¿Cuál es el operador de comparación para verificar si dos valores son iguales?\",\n",
    "]\n",
    "# Respuestas posibles para cada pregunta, en el mismo orden que las preguntas\n",
    "answers = [\n",
    "    (\"size()\", \"len()\", \"length()\", \"count()\"),\n",
    "    (\"3.14\", \"'42'\", \"10\", \"True\"),\n",
    "    (\"input()\", \"scan()\", \"read()\", \"ask()\"),\n",
    "    (\n",
    "        \"// Esto es un comentario\",\n",
    "        \"/* Esto es un comentario */\",\n",
    "        \"-- Esto es un comentario\",\n",
    "        \"# Esto es un comentario\",\n",
    "    ),\n",
    "    (\"=\", \"==\", \"!=\", \"===\"),\n",
    "]\n",
    "# Índice de la respuesta correcta para cada pregunta, el el mismo orden que las preguntas\n",
    "correct_answers_index = [1, 2, 0, 3, 1]\n",
    "\n",
    "# El usuario deberá contestar 3 preguntas\n",
    "for _ in range(3):\n",
    "    # Se selecciona una pregunta aleatoria\n",
    "    question_index = random.randint(0, len(questions) - 1)\n",
    "\n",
    "    # Se muestra la pregunta y las respuestas posibles\n",
    "    print(questions[question_index])\n",
    "    for i, answer in enumerate(answers[question_index]):\n",
    "        print(f\"{i + 1}. {answer}\")\n",
    "\n",
    "    # El usuario tiene 2 intentos para responder correctamente\n",
    "    for intento in range(2):\n",
    "        user_answer = int(input(\"Respuesta: \")) - 1\n",
    "        # Se verifica si la respuesta es correcta\n",
    "        if user_answer == correct_answers_index[question_index]:\n",
    "            print(\"¡Correcto!\")\n",
    "            break\n",
    "    else:\n",
    "        # Si el usuario no responde correctamente después de 2 intentos,\n",
    "        # se muestra la respuesta correcta\n",
    "        print(\"Incorrecto. La respuesta correcta es:\")\n",
    "        print(answers[question_index][correct_answers_index[question_index]])\n",
    "\n",
    "    # Se imprime un blanco al final de la pregunta\n",
    "    print()\n",
    "```\n"
   ]
  },
  {
   "cell_type": "markdown",
   "id": "48c31a93-53a5-4c9a-9edd-3b304a420609",
   "metadata": {},
   "source": [
    "* Comience un repositorio **local** y agregue el archivo recientemente creado.\n",
    "* Crea tu propio repositorio **remoto** en [Github](https://github.com/) y suba el archivo al repositorio remoto.\n",
    "* Agrega el `README.md` con tu nombre y número de estudiante.\n",
    "* Modifique el programa anterior con las siguientes funcionalidades:\n",
    "    - El juego tiene un bug. Si el usuario ingresa un número de respuesta no válido por ejemplo 42 o \n",
    "    \"huevos con spam\" el programa falla con un error. Modifica el mismo para que si la respuesta no\n",
    "    es un número o bien no está en el rango de las respuestas posibles muestre un mensaje diciendo: \n",
    "    \"Respuesta no válida\" y termine de inmediato con exit status igual a 1. \n",
    "    - Modifique el juego para que al final de la partida se muestre el puntaje del jugador o\n",
    "    jugadora. El puntaje se calcula de la siguiente forma, cada intento fallido descuenta 0.5 puntos\n",
    "    y cada acierto suma 1 punto.\n",
    "    - Modifique el juego para, en lo posible, no acceder a las 3 listas usando índices. Ayuda:\n",
    "    ```python\n",
    "    questions_to_ask = random.choices(list(zip(questions, answers, correct_answers_index)), k=3)\n",
    "    ```\n",
    "    - Modifique el juego para que no muestre preguntas repetidas (investigue la función\n",
    "    `random.sample()`)\n",
    "\n",
    "<div style=\"page-break-after: always;\"></div>\n",
    "\n"
   ]
  },
  {
   "cell_type": "markdown",
   "id": "b0594a6e-a48c-4c55-a3fb-1cc7e3e4f84a",
   "metadata": {},
   "source": [
    "\n",
    "## Actividad Extra\n",
    "\n",
    "Creación de un programa básico de gestión de inventario.\n",
    "\n",
    "Desarrollar un programa en Python que permita gestionar un inventario simple de productos, incluyendo funciones básicas como agregar productos, eliminar productos y mostrar el inventario.\n",
    "\n",
    "El programa debe tener un menú interactivo que permita al usuario seleccionar las siguientes operaciones:\n",
    "- Agregar un nuevo producto al inventario, solicitando al usuario el nombre y la cantidad inicial del producto.\n",
    "- Eliminar un producto existente del inventario, solicitando al usuario el nombre del producto a eliminar.\n",
    "- Mostrar el inventario actual, que incluya el nombre y la cantidad de cada producto.\n",
    "- Salir del programa.\n",
    "\n",
    "El inventario puede ser almacenado utilizando un diccionario simple, donde las claves sean los nombres de los productos y los valores sean las cantidades.\n",
    "Se deben manejar situaciones simples como la introducción de productos duplicados o la eliminación de productos inexistentes."
   ]
  }
 ],
 "metadata": {
  "kernelspec": {
   "display_name": "Python 3",
   "language": "python",
   "name": "python3"
  },
  "language_info": {
   "codemirror_mode": {
    "name": "ipython",
    "version": 3
   },
   "file_extension": ".py",
   "mimetype": "text/x-python",
   "name": "python",
   "nbconvert_exporter": "python",
   "pygments_lexer": "ipython3",
   "version": "3.13.2"
  }
 },
 "nbformat": 4,
 "nbformat_minor": 5
}
