{
 "cells": [
  {
   "cell_type": "markdown",
   "id": "26c3bd55-8218-48df-bcf6-00046caa02a6",
   "metadata": {
    "editable": true,
    "slideshow": {
     "slide_type": ""
    },
    "tags": []
   },
   "source": [
    "# Taller de Lenguajes Python \n",
    "## Segundo Semestre 2025 (UNLP)\n",
    "## Práctica 2\n"
   ]
  },
  {
   "cell_type": "markdown",
   "id": "80b25bd4-c8f0-4c6a-b50f-42cb26f4c340",
   "metadata": {},
   "source": [
    "## Objetivos\n",
    "\n",
    "- Resolver problemas más complejos utilizando estructuras de datos adecuadas.\n",
    "- Aplicar correctamente el uso de Jupyter Notebook.\n",
    "- Desarrollar soluciones considerando dependencias y buenas prácticas."
   ]
  },
  {
   "cell_type": "markdown",
   "id": "40589984-9f55-47df-9be9-d52b6bcd942f",
   "metadata": {},
   "source": [
    "## Recomendación\n",
    "\n",
    "- Realizar la práctica en un entorno de **Jupyter Notebook**."
   ]
  },
  {
   "cell_type": "markdown",
   "id": "b5aa1cca-4fc7-44fa-a9ad-e9b50198033b",
   "metadata": {},
   "source": [
    "## Ejercicios"
   ]
  },
  {
   "cell_type": "markdown",
   "id": "b5c17547-aa1b-41df-9701-5f8c6964139c",
   "metadata": {},
   "source": [
    "### 1. Análisis del Zen de Python\n",
    "\n",
    "Copie el texto del Zen de Python en una variable e imprima todas las líneas cuya segunda palabra comience con una vocal (A, E, I, O, U, a, e, i, o, u).\n",
    "\n",
    "_El Zen de Python es una colección de principios que guían la filosofía de diseño de Python, escrita en forma de aforismos. Resalta la simplicidad, legibilidad y claridad en el código._\n",
    "\n",
    "Para verlo en Python, ejecute en la consola `import this`\n",
    "\n",
    "Para este punto debe colocar el contenido del Zen de python en una variable string:\n",
    "```python\n",
    "zen_text = \"\"\"Colocar aquí el Zen de Python\"\"\"\n",
    "```\n",
    "\n",
    "**Salida esperada:**\n",
    "```\n",
    "Beautiful is better than ugly.\n",
    "Explicit is better than implicit.\n",
    "Simple is better than complex.\n",
    "Complex is better than complicated.\n",
    "... (otras líneas que cumplan la condición)\n",
    "\n",
    "\n"
   ]
  },
  {
   "cell_type": "markdown",
   "id": "6842d81d-72f1-4744-8a3e-c90037b557d0",
   "metadata": {},
   "source": [
    "### 2. Título más largo\n",
    "\n",
    "Dado un listado de títulos de streams en Twitch:\n",
    "```python\n",
    "titles = [\n",
    "    \"Speedrun de Super Mario en tiempo récord\",\n",
    "    \"Charla sobre desarrollo de videojuegos\",\n",
    "    \"Jugando al nuevo FPS del momento con amigos\",\n",
    "    \"Música en vivo: improvisaciones al piano\"\n",
    "]\n",
    "```\n",
    "\n",
    "Encuentre el título con más palabras y muéstrelo en pantalla.\n",
    "\n",
    "**Salida esperada:**\n",
    "```\n",
    "El título más largo es: \"Jugando al nuevo FPS del momento con amigos\"\n",
    "```\n"
   ]
  },
  {
   "cell_type": "markdown",
   "id": "301cc0ab-0300-4ac8-9008-c9fdfe70bd6b",
   "metadata": {},
   "source": [
    "### 3. Código de conducta\n",
    "\n",
    "Dado un código de conducta para un servidor de Discord:\n",
    "\n"
   ]
  },
  {
   "cell_type": "code",
   "execution_count": 4,
   "id": "bd0cfa84-6a94-49eb-beb9-1a6109b7b3c8",
   "metadata": {},
   "outputs": [],
   "source": [
    "\n",
    "rules = \"\"\"Respeta a los demás. No se permiten insultos ni lenguaje ofensivo.\n",
    "Evita el spam. No publiques enlaces sospechosos o repetitivos.\n",
    "No compartas información personal.\n",
    "Usa los canales adecuados para cada tema.\n",
    "Sigue las instrucciones de los moderadores.\"\"\"\n",
    "\n"
   ]
  },
  {
   "cell_type": "markdown",
   "id": "a662c50e-6745-4627-b42f-9fdfc48c422d",
   "metadata": {},
   "source": [
    "\n",
    "Solicite una palabra clave al usuario e imprima todas las reglas que la contengan.\n",
    "\n",
    "**Salida esperada:**\n",
    "```\n",
    "Ingrese una palabra clave: moderadores\n",
    "Sigue las instrucciones de los moderadores.\n",
    "```\n",
    "Solicite una palabra clave al usuario e imprima todas las reglas que la contengan.\n",
    "\n",
    "**Salida esperada:**\n",
    "```\n",
    "Ingrese una palabra clave: moderadores\n",
    "Sigue las instrucciones de los moderadores.\n",
    "```"
   ]
  },
  {
   "cell_type": "markdown",
   "id": "039d4855-648d-46b1-9b20-75ed42c040f7",
   "metadata": {},
   "source": [
    "### 4. Validación de nombre de usuario\n",
    "\n",
    "Valide un nombre de usuario con los siguientes criterios:\n",
    "\n",
    "- Al menos 5 caracteres.\n",
    "- Contiene al menos un número.\n",
    "- Contiene al menos una letra mayúscula.\n",
    "- Solo puede contener letras y números.\n",
    "\n",
    "**Ejemplo de entrada y salida esperada:**\n",
    "```\n",
    "Ingrese un nombre de usuario: Gamer123\n",
    "El nombre de usuario es válido.\n",
    "```\n",
    "\n",
    "```\n",
    "Ingrese un nombre de usuario: gamer\n",
    "El nombre de usuario no cumple con los requisitos.\n",
    "```\n"
   ]
  },
  {
   "cell_type": "markdown",
   "id": "1521119d-0e9d-40b7-a6cf-1763edc25ae1",
   "metadata": {},
   "source": [
    "### 5. Clasificación de velocidad de reacción en un juego\n",
    "\n",
    "Dado el tiempo de reacción de un jugador en milisegundos, clasifíquelo en las siguientes categorías:\n",
    "- Menos de 200 ms: Rápido\n",
    "- Entre 200 y 500 ms: Normal\n",
    "- Más de 500 ms: Lento\n",
    "\n",
    "**Ejemplo de salida esperada:**\n",
    "```\n",
    "Ingrese su tiempo de reacción en ms: 320\n",
    "Categoría: Normal\n",
    "```"
   ]
  },
  {
   "cell_type": "markdown",
   "id": "dbb24104-9e95-448c-a504-dcd8d4e8fbe4",
   "metadata": {},
   "source": [
    "### 6. Análisis de descripciones de una plataforma de stream\n",
    "\n",
    "Dadas varias descripciones de streams en Twitch, cuente cuántas menciones hay de \"entretenimiento\", \"música\" y \"charla\".\n",
    "\n",
    "```python\n",
    "descriptions = [\n",
    "    \"Streaming de música en vivo con covers y composiciones\",\n",
    "    \"Charla interactiva con la audiencia sobre series y películas\",\n",
    "    \"Jugamos a juegos retro y charlamos sobre su historia\",\n",
    "    \"Exploramos la mejor música de los 80s y 90s\",\n",
    "    \"Programa de entretenimiento con noticias y curiosidades del mundo gamer\",\n",
    "    \"Sesión de charla con invitados especiales del mundo del streaming\",\n",
    "    \"Música en directo con improvisaciones y peticiones del chat\",\n",
    "    \"Un espacio para charlar relajada sobre tecnología y cultura digital\",\n",
    "    \"Exploramos el impacto de la música en los videojuegos clásicos\"\n",
    "]\n",
    "```\n",
    "\n",
    "**Salida esperada:**\n",
    "```\n",
    "Menciones de 'música': 4\n",
    "Menciones de 'charla': 2\n",
    "Menciones de 'entretenimiento': 1\n",
    "```\n"
   ]
  },
  {
   "cell_type": "markdown",
   "id": "77f4c616-2651-4f07-b8d6-bfbbb4831f20",
   "metadata": {},
   "source": [
    "### 7. Generador de códigos de descuento\n",
    "\n",
    "Genere un código de descuento aleatorio para un usuario en base a su nombre, la fecha actual y el resto deben ser números o letras aleatorias. El código debe tener una longitud de 30 caracteres, todas las letras deben ser mayúsculas.\n",
    "El usuario debe ingresarse por teclado y debe validar que no exeda los 15 caracteres.\n",
    "\n",
    "**Entrada:**\n",
    "```python\n",
    "Usuario: StreamerPro\n",
    "Fecha: 2025-04-10\n",
    "```\n",
    "\n",
    "**Salida esperada:**\n",
    "```\n",
    "Código de descuento: STREAMERPRO-20250410-AB12CDECA\n",
    "```\n"
   ]
  },
  {
   "cell_type": "markdown",
   "id": "f62e60d3-588f-4a74-8e0f-b9a6b519f609",
   "metadata": {},
   "source": [
    "### 8. Identificación de anagramas\n",
    "\n",
    "Determine si dos palabras ingresadas son anagramas (contienen las mismas letras en diferente orden).\n",
    "\n",
    "**Ejemplo de entrada y salida esperada:**\n",
    "```\n",
    "Ingrese la primera palabra: amor\n",
    "Ingrese la segunda palabra: roma\n",
    "Son anagramas.\n",
    "```\n",
    "\n",
    "```\n",
    "Ingrese la primera palabra: python\n",
    "Ingrese la segunda palabra: java\n",
    "No son anagramas.\n",
    "```\n"
   ]
  },
  {
   "cell_type": "markdown",
   "id": "4df98c5f-4250-4ac8-a3aa-87cf1776374f",
   "metadata": {},
   "source": [
    "### 9. Limpieza de Datos para un Sistema de Datos\n",
    "\n",
    "Es un analista de datos en una empresa que ha recibido una lista de nombres de  de distintas fuentes.\n",
    "Sin embargo, estos datos contienen errores, espacios en blanco, nombres repetidos y valores nulos.\n",
    "\n",
    "Su tarea es desarrollar un sistema que limpie y estandarice estos datos para poder usarlos en el sistema.\n",
    "\n",
    "**Datos de entrada**\n",
    "La empresa ha recopilado nombres  desde diferentes formularios, bases de datos y registros manuales.\n",
    "La lista de datos inicial es la siguiente:\n"
   ]
  },
  {
   "cell_type": "code",
   "execution_count": 10,
   "id": "eeabdc4b-96ed-4697-81f5-f0d9d78ec6ac",
   "metadata": {
    "editable": true,
    "slideshow": {
     "slide_type": ""
    },
    "tags": []
   },
   "outputs": [],
   "source": [
    "personas = [\n",
    "    \"Marie Curie\", \"   Rosalind      Franklin\"  , None,  \"Ada Lovelace    \", \n",
    "    \"   Lise Meitner  \",  \"Chien-Shiung Wu\",\n",
    "    \"Barbara McClintock  \",   \"  Jane     Goodall\",   \"Katherine   Johnson  \", \n",
    "    None,  \"Marie Curie\",  \n",
    "    \" MERIT PTAH\",  \" \"  ,\"  enheduana\",   \"Hatshepsut\", None,   \"  ada lovelace\",  \n",
    "    \"ROSALIND FRANKLIN\"  , \n",
    "    \"Chien-Shiung    Wu  \", \"  Jeanne Baret  \",   \"Taputti  \",    \"  Aspasia\",   \n",
    "    \"Agnodice\",     \"Anicia Juliana\",\n",
    "    \"Zoe Porfirogénita\",    \"Sonduk\",    \"  Hildegarda de Bingen \",    \"Trótula  \",  \n",
    "    \"  Yang Huanyi\",    \" Jacoba Felice  \",\n",
    "    \"jeanne baret \",     \"ASPASIA\", \" \"  ,  None,  \"  Hildegarda de Bingen  \",  \n",
    "    \"agnodice\"  ]\n",
    "\n",
    "\n"
   ]
  },
  {
   "cell_type": "markdown",
   "id": "98a3c2a6-b81c-4d4b-9424-ff9b3073e805",
   "metadata": {
    "editable": true,
    "slideshow": {
     "slide_type": ""
    },
    "tags": []
   },
   "source": [
    "Se debe desarrollar un sistema que permita realizar las siguientes operaciones en los datos:\n",
    "- **Eliminar espacios extra** en los nombres.\n",
    "- **Convertir todos los nombres a formato de título** (primera letra en mayúscula y el resto en minúscula).\n",
    "- **Eliminar registros duplicados** para evitar personas repetidas.\n",
    "- **Eliminar valores vacíos o nulos**, ya que no aportan información válida.\n",
    "- **Mostrar la lista limpia de personas  para usar en el sistema.**\n",
    "- **Realizar \"ESTADÍSTICAS DEL PROCESO\"**, donde se debe indicar:\n",
    "    * Cantidad registros originales: \n",
    "    * Cantidad registros después de limpieza: \n",
    "    * Cantidad registros eliminados: \n",
    "    * Reducción de: \n",
    "\n",
    "**Salida esperada**\n",
    "\n",
    "Después de ejecutar las funciones de limpieza, la lista de clientes debería verse así:\n",
    "```\n",
    "Lista limpia de personas al realizar todas las operaciones:\n",
    "\n",
    "['Alejandro González', 'Ana López', 'Andrés Ocampo', 'Carlos Mendes',\n",
    "'Claudia Torres', 'Damián Castillo', 'Gabriela Ruíz', 'Juan Pérez',\n",
    "'Laura Ramos', 'Luis Rodríguez', 'Maria Martínez', 'Miguel Ángel',\n",
    "'Monica Herrera', 'Patricia Vega', 'Pedro Gómez', 'Ricardo Fernández',\n",
    "'Sandra Morales']\n",
    "=== ESTADÍSTICAS DEL PROCESO ===\n",
    "Registros originales: 36\n",
    "Registros después de limpieza: 22\n",
    "Registros eliminados: 14\n",
    "Reducción de: 38.9%\n",
    "```"
   ]
  },
  {
   "cell_type": "code",
   "execution_count": null,
   "id": "1ff5fb1d-4f12-4029-a801-f17888b31805",
   "metadata": {
    "editable": true,
    "slideshow": {
     "slide_type": ""
    },
    "tags": []
   },
   "outputs": [],
   "source": []
  }
 ],
 "metadata": {
  "kernelspec": {
   "display_name": "Python 3 (ipykernel)",
   "language": "python",
   "name": "python3"
  },
  "language_info": {
   "codemirror_mode": {
    "name": "ipython",
    "version": 3
   },
   "file_extension": ".py",
   "mimetype": "text/x-python",
   "name": "python",
   "nbconvert_exporter": "python",
   "pygments_lexer": "ipython3",
   "version": "3.10.12"
  }
 },
 "nbformat": 4,
 "nbformat_minor": 5
}
